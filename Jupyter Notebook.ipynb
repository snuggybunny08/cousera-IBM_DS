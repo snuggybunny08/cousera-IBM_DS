{
 "cells": [
  {
   "attachments": {},
   "cell_type": "markdown",
   "metadata": {},
   "source": [
    "# \"My Jupyter Notebook on IBM Watson Studio\""
   ]
  },
  {
   "attachments": {},
   "cell_type": "markdown",
   "metadata": {},
   "source": [
    "**Emmanuel Nwosu**\n",
    "Data Engiuneer"
   ]
  },
  {
   "attachments": {},
   "cell_type": "markdown",
   "metadata": {},
   "source": [
    "*Data science is a prerequisite to data engineer, when mastered diligently it improves one knowedge and ability to discharge his/her duties as a data engineer. The tools and skills needed to succed as a data engineer, are used in the field of data science.*"
   ]
  },
  {
   "attachments": {},
   "cell_type": "markdown",
   "metadata": {},
   "source": [
    "### The python code below is a mathematical expression of the addition of two variables. "
   ]
  },
  {
   "cell_type": "code",
   "execution_count": 6,
   "metadata": {},
   "outputs": [
    {
     "name": "stdout",
     "output_type": "stream",
     "text": [
      "14\n"
     ]
    }
   ],
   "source": [
    "a = 5\n",
    "b = 9\n",
    "c = a + b \n",
    "print(c)"
   ]
  },
  {
   "attachments": {},
   "cell_type": "markdown",
   "metadata": {},
   "source": [
    "|Name|Country|Club|Age|Jersey|\n",
    "|----|----|----|----|----|\n",
    "|Cristiano Ronaldo|Portugal|Al Nasr|37|7|\n",
    "|Lionel Messi|Argentina|PSG|35|30|\n",
    "|Karim Benzema|France|Real Madrid|34|9|\n",
    "|Kevin DeBryne|Belgium|Manchester City|31|17|\n",
    "|Victor Osihmen|Nigeria|Napoli|25|9|"
   ]
  },
  {
   "attachments": {},
   "cell_type": "markdown",
   "metadata": {},
   "source": [
    "* Continents\n",
    "    * Africa\n",
    "    * Asia\n",
    "    * Antarctica\n",
    "    * Europe\n",
    "    * North America\n",
    "    * South America\n",
    "    * Oceania "
   ]
  },
  {
   "attachments": {},
   "cell_type": "markdown",
   "metadata": {},
   "source": [
    "<strike> What is your name and where are you from ?<strike>"
   ]
  }
 ],
 "metadata": {
  "kernelspec": {
   "display_name": "base",
   "language": "python",
   "name": "python3"
  },
  "language_info": {
   "codemirror_mode": {
    "name": "ipython",
    "version": 3
   },
   "file_extension": ".py",
   "mimetype": "text/x-python",
   "name": "python",
   "nbconvert_exporter": "python",
   "pygments_lexer": "ipython3",
   "version": "3.8.8 (default, Apr 13 2021, 12:59:45) \n[Clang 10.0.0 ]"
  },
  "orig_nbformat": 4,
  "vscode": {
   "interpreter": {
    "hash": "ef286fdfeb4c69657c9177c8dfa954b639cd3ec27c099f8a8135b810a92e4211"
   }
  }
 },
 "nbformat": 4,
 "nbformat_minor": 2
}
