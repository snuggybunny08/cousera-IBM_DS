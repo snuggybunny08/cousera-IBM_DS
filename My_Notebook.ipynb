{
 "cells": [
  {
   "cell_type": "markdown",
   "id": "7892cfc8-b532-4b76-82a2-b36a4c087029",
   "metadata": {},
   "source": [
    "1"
   ]
  },
  {
   "cell_type": "markdown",
   "id": "8d6ccf83-f145-4483-b97a-278b42b21ef4",
   "metadata": {},
   "source": [
    "1 + 1"
   ]
  },
  {
   "cell_type": "code",
   "execution_count": null,
   "id": "f94895ac-3615-448d-97ea-1b353654c958",
   "metadata": {},
   "outputs": [
    {
     "data": {
      "text/plain": [
       "17"
      ]
     },
     "execution_count": 3,
     "metadata": {},
     "output_type": "execute_result"
    }
   ],
   "source": [
    "8 + 9 "
   ]
  },
  {
   "cell_type": "markdown",
   "id": "2c4fb14d-5f91-45be-a0a5-38e7c2e864a6",
   "metadata": {},
   "source": [
    "My title\n"
   ]
  },
  {
   "cell_type": "code",
   "execution_count": null,
   "id": "56400e40-4210-40ca-a7c2-e155c40358a6",
   "metadata": {},
   "outputs": [],
   "source": []
  }
 ],
 "metadata": {
  "kernelspec": {
   "display_name": "Python",
   "language": "python",
   "name": "conda-env-python-py"
  },
  "language_info": {
   "codemirror_mode": {
    "name": "ipython",
    "version": 3
   },
   "file_extension": ".py",
   "mimetype": "text/x-python",
   "name": "python",
   "nbconvert_exporter": "python",
   "pygments_lexer": "ipython3",
   "version": "3.7.12"
  }
 },
 "nbformat": 4,
 "nbformat_minor": 5
}
